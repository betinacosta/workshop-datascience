{
 "cells": [
  {
   "cell_type": "markdown",
   "metadata": {},
   "source": [
    "1. Dê uma olhada na saída de `tips.info()`. Você verá que as duas colunas que deveriam ser do tipo `categoria` (sex e smoker) são do tipo `object`. Sua tarefa é converter essas duas colunas para o tipo categoria."
   ]
  },
  {
   "cell_type": "code",
   "execution_count": null,
   "metadata": {},
   "outputs": [],
   "source": [
    "import pandas as pd\n",
    "\n",
    "#Aqui estamos lendo um arquivo .csv e carregando ele como um DataFrame. Veja a aula-01 para mais informações\n",
    "df = pd.read_csv('tips.csv')"
   ]
  },
  {
   "cell_type": "code",
   "execution_count": null,
   "metadata": {},
   "outputs": [],
   "source": [
    "#Escreva seu código aqui"
   ]
  },
  {
   "cell_type": "markdown",
   "metadata": {},
   "source": [
    "2. Use o método `.info()` para explorar o dataframe abaixo. Você verá que as colunas `total_bill` e `tip`, que deveriam ser numéricas, são do tipo object. Sua tarefa é corrigir isso."
   ]
  },
  {
   "cell_type": "code",
   "execution_count": 2,
   "metadata": {},
   "outputs": [],
   "source": [
    "import pandas as pd\n",
    "\n",
    "#Aqui estamos lendo um arquivo .csv e carregando ele como um DataFrame. Veja a aula-01 para mais informações\n",
    "df = pd.read_csv('tips-dirty.csv')"
   ]
  },
  {
   "cell_type": "code",
   "execution_count": 4,
   "metadata": {},
   "outputs": [],
   "source": [
    "#Escreva seu código aqui:\n"
   ]
  },
  {
   "cell_type": "markdown",
   "metadata": {},
   "source": [
    "3. Compile um pattern que atenda a um numero de telefone do formato `xxx-xxx-xxxx` e teste com os numeros: `123-456-7890` e `1123-456-7890`"
   ]
  },
  {
   "cell_type": "code",
   "execution_count": null,
   "metadata": {},
   "outputs": [],
   "source": [
    "import re\n",
    "\n",
    "#Escreva seu código aqui:\n"
   ]
  },
  {
   "cell_type": "markdown",
   "metadata": {},
   "source": [
    "4. Digamos que tenhamos a seguinte string: `A receita manda colocar 6 morangos e 2 bananas`.\n",
    "\n",
    "Queremos extrair o `6` e o `2` dessa string e salvar para posterirmente comparar a quantidade de morangos e bananas.\n",
    "\n",
    "Ao usar expressões regulares para extrair vários numeros (ou outros padrões), você pode usar o método `re.findall()`. Você passa um padrão e uma string para `re.findall()` e ele retorna a list de combinações."
   ]
  },
  {
   "cell_type": "code",
   "execution_count": null,
   "metadata": {},
   "outputs": [],
   "source": [
    "import re\n",
    "\n",
    "#Escreva seu código aqui"
   ]
  },
  {
   "cell_type": "markdown",
   "metadata": {},
   "source": [
    "5. o DataFrame abaixo tem uma coluna chamada `sex` que contem os valores 'Male' e 'Female'. Sua tarefa é escrever uma função que irá substituir 'Female' por 'Mulher Trans' e 'Male' por 'Homem Trans' e retornar uma string de sua preferência para todas as entradas diferentes de 'Female' e 'Male'."
   ]
  },
  {
   "cell_type": "code",
   "execution_count": null,
   "metadata": {},
   "outputs": [],
   "source": [
    "import pandas as pd\n",
    "\n",
    "#Aqui estamos lendo um arquivo .csv e carregando ele como um DataFrame. Veja a aula-01 para mais informações\n",
    "df = pd.read_csv('tips.csv')\n",
    "\n",
    "#Escreva seu código aqui"
   ]
  }
 ],
 "metadata": {
  "kernelspec": {
   "display_name": "Python 3",
   "language": "python",
   "name": "python3"
  },
  "language_info": {
   "codemirror_mode": {
    "name": "ipython",
    "version": 3
   },
   "file_extension": ".py",
   "mimetype": "text/x-python",
   "name": "python",
   "nbconvert_exporter": "python",
   "pygments_lexer": "ipython3",
   "version": "3.6.5"
  }
 },
 "nbformat": 4,
 "nbformat_minor": 2
}
