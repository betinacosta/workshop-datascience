{
 "cells": [
  {
   "cell_type": "markdown",
   "metadata": {},
   "source": [
    "1. Examine o dataset abaixo utilizando os métodos: `head()`, `tail()`, `columns`, `shape` e `info()` para se familiarizar com seus usos"
   ]
  },
  {
   "cell_type": "code",
   "execution_count": 5,
   "metadata": {},
   "outputs": [],
   "source": [
    "import pandas as pd\n",
    "\n",
    "#Aqui estamos lendo um arquivo .csv e carregando ele como um DataFrame. Veja a aula-01 para mais informações\n",
    "df = pd.read_csv('DOB_Job_Application_Filings.csv', low_memory=False)"
   ]
  },
  {
   "cell_type": "code",
   "execution_count": null,
   "metadata": {},
   "outputs": [],
   "source": [
    "##Escreva seu código aqui:"
   ]
  },
  {
   "cell_type": "markdown",
   "metadata": {},
   "source": [
    "2. Nesse exercício, vamos olhar para as colunas `Borough`, `State` e `Site Fill` para nos certificar que todos os valores são válidos. Ao olhar para a saída, faça alguns testes de sanidade: O que deveriamos encontrar de valores na coluna `State` (Estado em inglês) para um dataset referente a ofertas de emprego em Nova York?"
   ]
  },
  {
   "cell_type": "code",
   "execution_count": null,
   "metadata": {},
   "outputs": [],
   "source": [
    "##Escreva seu código aqui:"
   ]
  }
 ],
 "metadata": {
  "kernelspec": {
   "display_name": "Python 3",
   "language": "python",
   "name": "python3"
  },
  "language_info": {
   "codemirror_mode": {
    "name": "ipython",
    "version": 3
   },
   "file_extension": ".py",
   "mimetype": "text/x-python",
   "name": "python",
   "nbconvert_exporter": "python",
   "pygments_lexer": "ipython3",
   "version": "3.6.5"
  }
 },
 "nbformat": 4,
 "nbformat_minor": 2
}
